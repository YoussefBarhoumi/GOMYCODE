{
 "cells": [
  {
   "cell_type": "code",
   "execution_count": 22,
   "id": "faa4642e",
   "metadata": {},
   "outputs": [
    {
     "name": "stdout",
     "output_type": "stream",
     "text": [
      "35\n"
     ]
    }
   ],
   "source": [
    "#question1\n",
    "def maximum(a,b,c):\n",
    "    if b<a and c<a:\n",
    "        return(a)\n",
    "       \n",
    "    elif a<b and c<b:\n",
    "        return(b)\n",
    "    else:\n",
    "        return(c)\n",
    "max= maximum(20,35,19)\n",
    "print(max)"
   ]
  },
  {
   "cell_type": "code",
   "execution_count": 12,
   "id": "dc2f3867",
   "metadata": {},
   "outputs": [
    {
     "name": "stdout",
     "output_type": "stream",
     "text": [
      "50 , 30\n"
     ]
    }
   ],
   "source": [
    "#question2\n",
    "sum = lambda a,b : a+b\n",
    "sub= lambda a,b : a-b\n",
    "print(sum(40,10),',' ,sub(40,10))\n"
   ]
  },
  {
   "cell_type": "code",
   "execution_count": null,
   "id": "2fcb151c",
   "metadata": {},
   "outputs": [],
   "source": [
    "#question3\n",
    "l=[]\n",
    "n=int(input(\"donner le nombre d'elements de la liste\"))\n",
    "for i in range (n):\n",
    "    a=int(input(\"donner nombre\"))\n",
    "    l.append(a)\n",
    "print(l)\n",
    "def somme(l):\n",
    "    s=0\n",
    "    for i in l:\n",
    "        s=s+i\n",
    "    return s\n",
    "def produit(l):\n",
    "    p=1\n",
    "    for i in l:\n",
    "        p=p*i\n",
    "    return p\n",
    "for i in range (0,len(l),2):\n",
    "    sum=s\n",
    "for i in range(1,len(l),2):\n",
    "    mult=p\n",
    "print(sum)  \n",
    "print(mult)"
   ]
  },
  {
   "cell_type": "code",
   "execution_count": null,
   "id": "270f8664",
   "metadata": {},
   "outputs": [],
   "source": []
  },
  {
   "cell_type": "code",
   "execution_count": null,
   "id": "7a04c8f5",
   "metadata": {},
   "outputs": [],
   "source": []
  }
 ],
 "metadata": {
  "kernelspec": {
   "display_name": "Python 3",
   "language": "python",
   "name": "python3"
  },
  "language_info": {
   "codemirror_mode": {
    "name": "ipython",
    "version": 3
   },
   "file_extension": ".py",
   "mimetype": "text/x-python",
   "name": "python",
   "nbconvert_exporter": "python",
   "pygments_lexer": "ipython3",
   "version": "3.8.8"
  }
 },
 "nbformat": 4,
 "nbformat_minor": 5
}

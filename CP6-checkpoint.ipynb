{
 "cells": [
  {
   "cell_type": "code",
   "execution_count": 16,
   "id": "3ca89926",
   "metadata": {},
   "outputs": [
    {
     "name": "stdout",
     "output_type": "stream",
     "text": [
      "choisir un nombre3\n",
      "choisir un nombre3\n",
      "choisir un nombre2\n",
      "choisir un nombre14\n",
      "[[12  5  3]\n",
      " [ 5  6  4]\n",
      " [ 7  4 11]]\n",
      "[[12, 5, 3], [5, 6, 4], [7, 4, 11]]\n"
     ]
    }
   ],
   "source": [
    "#question1\n",
    "import numpy as np\n",
    "a=int(input(\"choisir le nombre de ligne \"))\n",
    "b=int(input(\"choisir le nombre de colone\"))\n",
    "u=int(input(\"choisir le nombre (debut de lintervalle)\"))\n",
    "w=int(input(\"choisir un nombre(fin de lintervalle)\"))\n",
    "x=np.random.randint(u,w, size=(a,b))\n",
    "print(x)\n",
    "y=x.tolist()\n",
    "print(y)"
   ]
  },
  {
   "cell_type": "code",
   "execution_count": 11,
   "id": "1bb2c1ef",
   "metadata": {},
   "outputs": [
    {
     "name": "stdout",
     "output_type": "stream",
     "text": [
      "choisir un nombre5\n",
      "choisir un nombre25\n",
      "[[ 0  1  2  3  4]\n",
      " [ 5  6  7  8  9]\n",
      " [10 11 12 13 14]\n",
      " [15 16 17 18 19]\n",
      " [20 21 22 23 24]]\n",
      "60\n"
     ]
    }
   ],
   "source": [
    "#question2\n",
    "import numpy as np\n",
    "a=int(input(\"choisir le nombre de colone et ligne \"))\n",
    "u=int(input(\"choisir le nombre des valeurs dans le matrice\"))\n",
    "x=np.arange(u).reshape(a,a)\n",
    "print(x)\n",
    "result =  np.trace(x)\n",
    "print(result)\n"
   ]
  },
  {
   "cell_type": "code",
   "execution_count": 18,
   "id": "e005a0a6",
   "metadata": {},
   "outputs": [
    {
     "name": "stdout",
     "output_type": "stream",
     "text": [
      "choisir un nombre5\n",
      "6\n",
      "7\n",
      "8\n",
      "8\n"
     ]
    }
   ],
   "source": [
    "#question3\n",
    "import numpy as np\n",
    "a = np.array([[0,1,2],[3,4,5],[6,7,8]])\n",
    "x=int(input(\"choisir un nombre\"))\n",
    "for i in a:\n",
    "    for j in i:\n",
    "        if j>x:\n",
    "            print(j)\n",
    "print(j)\n",
    "    \n",
    "\n",
    "        \n",
    "    \n",
    "    "
   ]
  },
  {
   "cell_type": "code",
   "execution_count": 22,
   "id": "e5065ce4",
   "metadata": {},
   "outputs": [
    {
     "name": "stdout",
     "output_type": "stream",
     "text": [
      "choisir le nombre de ligne3\n",
      "choisir le nombre de colone4\n",
      "choisir un nombre (debut delintervalle)2\n",
      "choisir un nombre (fin de lintervalle)10\n",
      "choisir un nombre (debut de lintervalle)2\n",
      "choisir un nombre (fin de lintervalle)11\n",
      "[[2 9 2 7]\n",
      " [4 6 4 5]\n",
      " [4 2 2 4]]\n",
      "[[ 7  9  9  4]\n",
      " [ 2  3  7  4]\n",
      " [ 5  9  4 10]]\n",
      "[[ 9 18 11 11]\n",
      " [ 6  9 11  9]\n",
      " [ 9 11  6 14]]\n"
     ]
    }
   ],
   "source": [
    "#question4\n",
    "import numpy as np\n",
    "x=int(input(\"choisir le nombre de ligne\"))\n",
    "y=int(input(\"choisir le nombre de colone\"))\n",
    "u=int(input(\"choisir un nombre (debut delintervalle)\"))\n",
    "w=int(input(\"choisir un nombre (fin de lintervalle)\"))\n",
    "c=int(input(\"choisir un nombre (debut de lintervalle)\"))\n",
    "d=int(input(\"choisir un nombre (fin de lintervalle)\"))\n",
    "A=np.random.randint(u,w, size=(x,y))\n",
    "print(A)\n",
    "B=np.random.randint(c,d, size=(x,y))\n",
    "print(B)\n",
    "C=A+B\n",
    "print(C)\n"
   ]
  },
  {
   "cell_type": "code",
   "execution_count": 11,
   "id": "5a060da1",
   "metadata": {},
   "outputs": [
    {
     "name": "stdout",
     "output_type": "stream",
     "text": [
      "choisir le nombre de ligne 5\n",
      "choisir le nombre de colone4\n",
      "choisir le nombre (debut de lintervalle)2\n",
      "choisir un nombre(fin de lintervalle)10\n",
      "[7 9 6 2]\n",
      "6.0\n",
      "Y= 1.0\n",
      "Y= 3.0\n",
      "Y= 0.0\n",
      "Y= -4.0\n",
      "[2 4 5 8]\n",
      "4.75\n",
      "Y= -2.75\n",
      "Y= -0.75\n",
      "Y= 0.25\n",
      "Y= 3.25\n",
      "[7 6 4 5]\n",
      "5.5\n",
      "Y= 1.5\n",
      "Y= 0.5\n",
      "Y= -1.5\n",
      "Y= -0.5\n",
      "[7 9 9 3]\n",
      "7.0\n",
      "Y= 0.0\n",
      "Y= 2.0\n",
      "Y= 2.0\n",
      "Y= -4.0\n",
      "[6 4 7 4]\n",
      "5.25\n",
      "Y= 0.75\n",
      "Y= -1.25\n",
      "Y= 1.75\n",
      "Y= -1.25\n"
     ]
    }
   ],
   "source": [
    "#QUESTION5\n",
    "import numpy as np\n",
    "a=int(input(\"choisir le nombre de ligne \"))\n",
    "b=int(input(\"choisir le nombre de colone\"))\n",
    "u=int(input(\"choisir le nombre (debut de lintervalle)\"))\n",
    "w=int(input(\"choisir un nombre(fin de lintervalle)\"))\n",
    "x=np.random.randint(u,w, size=(a,b))\n",
    "for i in x:\n",
    "    print(i)\n",
    "    y=i.mean()\n",
    "    print(y)\n",
    "    for j in i:\n",
    "        Y=j-y\n",
    "        print(\"Y=\",Y)\n",
    "print(Y)\n",
    "\n",
    "  \n",
    "  "
   ]
  },
  {
   "cell_type": "code",
   "execution_count": null,
   "id": "cc2ecb9d",
   "metadata": {},
   "outputs": [],
   "source": []
  },
  {
   "cell_type": "code",
   "execution_count": null,
   "id": "046b637c",
   "metadata": {},
   "outputs": [],
   "source": []
  }
 ],
 "metadata": {
  "kernelspec": {
   "display_name": "Python 3",
   "language": "python",
   "name": "python3"
  },
  "language_info": {
   "codemirror_mode": {
    "name": "ipython",
    "version": 3
   },
   "file_extension": ".py",
   "mimetype": "text/x-python",
   "name": "python",
   "nbconvert_exporter": "python",
   "pygments_lexer": "ipython3",
   "version": "3.8.8"
  }
 },
 "nbformat": 4,
 "nbformat_minor": 5
}

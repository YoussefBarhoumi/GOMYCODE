{
 "cells": [
  {
   "cell_type": "code",
   "execution_count": 25,
   "id": "d21683db",
   "metadata": {},
   "outputs": [
    {
     "data": {
      "text/plain": [
       "['uuuuuuuuuuuuuuuuuuu\\n',\n",
       " 'iiiiiiiiiii\\n',\n",
       " 'ppppppppppppppp\\n',\n",
       " 'llllllllllll\\n',\n",
       " 'ttttttttttt\\n',\n",
       " 'pppppppppppppppp\\n',\n",
       " 'kkkkk\\n']"
      ]
     },
     "execution_count": 25,
     "metadata": {},
     "output_type": "execute_result"
    }
   ],
   "source": [
    "#question1\n",
    "f = open(\"test.txt\",'r')\n",
    "f.readlines()\n"
   ]
  },
  {
   "cell_type": "code",
   "execution_count": 26,
   "id": "2397118b",
   "metadata": {},
   "outputs": [
    {
     "name": "stdout",
     "output_type": "stream",
     "text": [
      "choisir un nombre ,x=3\n",
      "uuuuuuuuuuuuuuuuuuu\n",
      "\n",
      "iiiiiiiiiii\n",
      "\n",
      "ppppppppppppppp\n",
      "\n"
     ]
    }
   ],
   "source": [
    "#question2\n",
    "x=int(input(\"choisir un nombre ,x=\"))\n",
    "f = open(\"test.txt\",'r')\n",
    "lines_number=x\n",
    "for i in range (lines_number):\n",
    "    l=f.readline()\n",
    "    print(l)\n"
   ]
  },
  {
   "cell_type": "code",
   "execution_count": 27,
   "id": "2d3ec0e7",
   "metadata": {},
   "outputs": [
    {
     "name": "stdout",
     "output_type": "stream",
     "text": [
      "choisir un nombre ,x=2\n",
      "['pppppppppppppppp\\n', 'kkkkk\\n']\n"
     ]
    }
   ],
   "source": [
    "#question3\n",
    "x=int(input(\"choisir un nombre ,x=\"))\n",
    "a= open(\"test.txt\",'r')\n",
    "lines=a.readlines()\n",
    "last_lines=lines[-x:]\n",
    "print(last_lines)"
   ]
  },
  {
   "cell_type": "code",
   "execution_count": 32,
   "id": "5f222b8f",
   "metadata": {},
   "outputs": [
    {
     "name": "stdout",
     "output_type": "stream",
     "text": [
      "ecrivez votre texte:ttt rrrr nnn uu\n",
      "the number of words of a given text file is: 4\n"
     ]
    }
   ],
   "source": [
    "#question4\n",
    "t=input(\"ecrivez votre texte:\")\n",
    "with open(\"new_text.txt\",'w',encoding = 'utf-8') as f:\n",
    "     f.write(t)\n",
    "    \n",
    "    \n",
    "f = open(\"new_text.txt\")\n",
    "d=f.read()\n",
    "words=d.split()\n",
    "print(\"the number of words of a given text file is:\",len(words))"
   ]
  }
 ],
 "metadata": {
  "kernelspec": {
   "display_name": "Python 3",
   "language": "python",
   "name": "python3"
  },
  "language_info": {
   "codemirror_mode": {
    "name": "ipython",
    "version": 3
   },
   "file_extension": ".py",
   "mimetype": "text/x-python",
   "name": "python",
   "nbconvert_exporter": "python",
   "pygments_lexer": "ipython3",
   "version": "3.8.8"
  }
 },
 "nbformat": 4,
 "nbformat_minor": 5
}

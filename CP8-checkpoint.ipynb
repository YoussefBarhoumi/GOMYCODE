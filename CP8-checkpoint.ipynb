{
 "cells": [
  {
   "cell_type": "code",
   "execution_count": 11,
   "id": "d21683db",
   "metadata": {},
   "outputs": [
    {
     "data": {
      "text/plain": [
       "['aaaaaaa\\n',\n",
       " 'zzzzzzz\\n',\n",
       " 'eeeeee\\n',\n",
       " 'rrrrrr\\n',\n",
       " 'tttttt\\n',\n",
       " 'yyyyyy\\n',\n",
       " 'uu\\n',\n",
       " 'uuuu\\n']"
      ]
     },
     "execution_count": 11,
     "metadata": {},
     "output_type": "execute_result"
    }
   ],
   "source": [
    "#question1\n",
    "f = open(\"test.txt\")\n",
    "f.readlines()\n"
   ]
  },
  {
   "cell_type": "code",
   "execution_count": 12,
   "id": "2397118b",
   "metadata": {},
   "outputs": [
    {
     "name": "stdout",
     "output_type": "stream",
     "text": [
      "choisir un nombre ,x=3\n",
      "aaaaaaa\n",
      "\n",
      "zzzzzzz\n",
      "\n",
      "eeeeee\n",
      "\n"
     ]
    }
   ],
   "source": [
    "#question2\n",
    "x=int(input(\"choisir un nombre ,x=\"))\n",
    "f = open(\"test.txt\",'r')\n",
    "lines_number=x\n",
    "for i in range (lines_number):\n",
    "    l=f.readline()\n",
    "    print(l)\n"
   ]
  },
  {
   "cell_type": "code",
   "execution_count": 8,
   "id": "2d3ec0e7",
   "metadata": {},
   "outputs": [
    {
     "name": "stdout",
     "output_type": "stream",
     "text": [
      "choisir un nombre ,x=2\n",
      "['uu\\n', 'uuuu\\n']\n"
     ]
    }
   ],
   "source": [
    "#question3\n",
    "x=int(input(\"choisir un nombre ,x=\"))\n",
    "a= open(\"test.txt\",'r')\n",
    "lines=a.readlines()\n",
    "last_lines=lines[-x:]\n",
    "print(last_lines)"
   ]
  },
  {
   "cell_type": "code",
   "execution_count": 18,
   "id": "72fb7cd2",
   "metadata": {},
   "outputs": [
    {
     "name": "stdout",
     "output_type": "stream",
     "text": [
      "the number of words of a given text file is: 16\n"
     ]
    }
   ],
   "source": [
    "#question4\n",
    "f = open(\"test.txt\")\n",
    "d=f.read()\n",
    "words=d.split()\n",
    "print(\"the number of words of a given text file is:\",len(words))"
   ]
  },
  {
   "cell_type": "code",
   "execution_count": null,
   "id": "5ee13213",
   "metadata": {},
   "outputs": [],
   "source": []
  }
 ],
 "metadata": {
  "kernelspec": {
   "display_name": "Python 3",
   "language": "python",
   "name": "python3"
  },
  "language_info": {
   "codemirror_mode": {
    "name": "ipython",
    "version": 3
   },
   "file_extension": ".py",
   "mimetype": "text/x-python",
   "name": "python",
   "nbconvert_exporter": "python",
   "pygments_lexer": "ipython3",
   "version": "3.8.8"
  }
 },
 "nbformat": 4,
 "nbformat_minor": 5
}

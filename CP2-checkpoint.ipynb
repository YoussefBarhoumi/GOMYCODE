{
 "cells": [
  {
   "cell_type": "markdown",
   "id": "c5d49259",
   "metadata": {},
   "source": [
    "#Learn, practice & have fun !\n",
    "\n",
    "Question 1 \n",
    "\n",
    "Write a Python program which accepts the user's first and last name and print them in reverse order with a space between them.\n",
    "\n",
    "Question 2\n",
    "\n",
    "Write a Python program that accepts an integer (n) and computes the value of n+nn+nnn\n",
    "Sample value of n is 5 \n",
    "Expected Result : 615 (5+55+555)\n",
    "\n",
    "Question 3\n",
    "\n",
    "Write a Python program to find whether a given number (accept from the user) is even or odd, print out an appropriate message to the user.\n",
    "\n",
    "Question 4\n",
    "\n",
    "Write a program which will find all such numbers which are divisible by 7 but are not a multiple of 5, between 2000 and 3200 (both included). The numbers obtained should be printed in a sequence on a single line.\n",
    "\n",
    "Hints: Consider use range(#begin, #end) method \n",
    " \n",
    "\n",
    "Question 5\n",
    "\n",
    "Write a program that can compute the factorial of a given number. The results should be printed in a sequence on a single line. Suppose the following input is supplied to the program: 8 Then, the output should be: 40320 \n",
    "\n",
    "Hint: The factorial function (symbol: !) multiplies all whole numbers from our chosen number down to 1. Examples: \n",
    "\n",
    "4! = 4 × 3 × 2 × 1\n",
    "\n",
    "8! = 8 × 7 × 6 × 5 × 4 × 3 × 2 × 1\n",
    "\n",
    "1! = 1\n",
    "\n",
    "0! = 1 (by convention)\n",
    "\n",
    "Question 6\n",
    "\n",
    "Write a program to remove the characters which have odd index values of a given string.\n",
    "\n",
    "for example: string =\"hello team\"\n",
    "\n",
    "the result should be: hlota\n",
    "\n",
    "Question 7\n",
    "\n",
    "In this challenge, you must discount a price according to its value.\n",
    "\n",
    "- If the price is 500 or above, there will be a 50% discount.\n",
    "\n",
    "- If the price is between 200 and 500 (200 inclusive), there will be a 30% discount.\n",
    "\n",
    "- If the price is less than 200, there will be a 10% discount."
   ]
  },
  {
   "cell_type": "code",
   "execution_count": null,
   "id": "9b376c23",
   "metadata": {},
   "outputs": [],
   "source": [
    "x=str(input(\"ecrivez votre prenom\"))\n",
    "y=str(input(\"evrivez votre nom\"))\n",
    "c=y+\" \"+x\n",
    "print(c)"
   ]
  },
  {
   "cell_type": "code",
   "execution_count": 24,
   "id": "9052960d",
   "metadata": {},
   "outputs": [
    {
     "name": "stdout",
     "output_type": "stream",
     "text": [
      "choisir un nombre4\n",
      "your number is even\n"
     ]
    }
   ],
   "source": [
    "num=int(input(\"choisir un nombre\"))\n",
    "if num % 2 == 0:\n",
    "    print(\"your number is even\")\n",
    "else:\n",
    "    print(\"your number is odd\")\n",
    "    \n"
   ]
  },
  {
   "cell_type": "code",
   "execution_count": 33,
   "id": "bb48a721",
   "metadata": {},
   "outputs": [
    {
     "name": "stdout",
     "output_type": "stream",
     "text": [
      "2002 2009 2016 2023 2037 2044 2051 2058 2072 2079 2086 2093 2107 2114 2121 2128 2142 2149 2156 2163 2177 2184 2191 2198 2212 2219 2226 2233 2247 2254 2261 2268 2282 2289 2296 2303 2317 2324 2331 2338 2352 2359 2366 2373 2387 2394 2401 2408 2422 2429 2436 2443 2457 2464 2471 2478 2492 2499 2506 2513 2527 2534 2541 2548 2562 2569 2576 2583 2597 2604 2611 2618 2632 2639 2646 2653 2667 2674 2681 2688 2702 2709 2716 2723 2737 2744 2751 2758 2772 2779 2786 2793 2807 2814 2821 2828 2842 2849 2856 2863 2877 2884 2891 2898 2912 2919 2926 2933 2947 2954 2961 2968 2982 2989 2996 3003 3017 3024 3031 3038 3052 3059 3066 3073 3087 3094 3101 3108 3122 3129 3136 3143 3157 3164 3171 3178 3192 3199 "
     ]
    }
   ],
   "source": [
    "for i in range(2000,3201): #begin\n",
    "    if i%7==0 and i%5!=0:\n",
    "        print(i,end=\" \") #end\n",
    "    \n",
    "    \n"
   ]
  },
  {
   "cell_type": "code",
   "execution_count": 42,
   "id": "fe1276fd",
   "metadata": {},
   "outputs": [
    {
     "name": "stdout",
     "output_type": "stream",
     "text": [
      "choisir un nombre8\n",
      "Factorial of 8 is 40320\n"
     ]
    }
   ],
   "source": [
    "n=int(input(\"choisir un nombre\"))\n",
    "import math\n",
    "print(math.factorial(n))  \n",
    "\n"
   ]
  },
  {
   "cell_type": "code",
   "execution_count": 2,
   "id": "95d7d3ce",
   "metadata": {},
   "outputs": [
    {
     "name": "stdout",
     "output_type": "stream",
     "text": [
      "the worldyoussef\n",
      "yusf\n"
     ]
    }
   ],
   "source": [
    "result=input(\"the world\")\n",
    "def valeur(str):\n",
    "    result=\"\"\n",
    "    for i in range (len(str)):\n",
    "        if i%2==0:\n",
    "            result=result+str[i]\n",
    "    return result\n",
    "new_stri=valeur(result)\n",
    "print(new_stri)\n",
    "  \n"
   ]
  },
  {
   "cell_type": "code",
   "execution_count": 49,
   "id": "330022a3",
   "metadata": {},
   "outputs": [
    {
     "name": "stdout",
     "output_type": "stream",
     "text": [
      "mettre le prix800\n",
      "there will be a 50% discount.\n"
     ]
    }
   ],
   "source": [
    "x=int(input(\"mettre le prix\"))\n",
    "if x>=500:\n",
    "    print(\"there will be a 50% discount.\")\n",
    "elif 200<=x<500:\n",
    "    x=\n",
    "    print(\"there will be a 30% discount.\")\n",
    "elif:\n",
    "          print(\"there will be a 10% discount.\")\n"
   ]
  },
  {
   "cell_type": "code",
   "execution_count": 53,
   "id": "b18dbba0",
   "metadata": {},
   "outputs": [
    {
     "name": "stdout",
     "output_type": "stream",
     "text": [
      "choisir un nombre5\n",
      "615\n"
     ]
    }
   ],
   "source": [
    "n=input(\"choisir un nombre\") \n",
    "x=n \n",
    "y=n+n \n",
    "w=n+n+n \n",
    "a=int(x)+int(y)+int(w) \n",
    "print (a)"
   ]
  },
  {
   "cell_type": "code",
   "execution_count": null,
   "id": "2c9473c0",
   "metadata": {},
   "outputs": [],
   "source": []
  }
 ],
 "metadata": {
  "kernelspec": {
   "display_name": "Python 3",
   "language": "python",
   "name": "python3"
  },
  "language_info": {
   "codemirror_mode": {
    "name": "ipython",
    "version": 3
   },
   "file_extension": ".py",
   "mimetype": "text/x-python",
   "name": "python",
   "nbconvert_exporter": "python",
   "pygments_lexer": "ipython3",
   "version": "3.8.8"
  }
 },
 "nbformat": 4,
 "nbformat_minor": 5
}

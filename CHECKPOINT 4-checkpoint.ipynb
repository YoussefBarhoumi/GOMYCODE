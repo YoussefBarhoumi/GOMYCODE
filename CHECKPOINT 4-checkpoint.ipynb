{
 "cells": [
  {
   "cell_type": "code",
   "execution_count": 22,
   "id": "5d3b6d71",
   "metadata": {},
   "outputs": [
    {
     "name": "stdout",
     "output_type": "stream",
     "text": [
      "35\n"
     ]
    }
   ],
   "source": [
    "#question1\n",
    "def maximum(a,b,c):\n",
    "    if b<a and c<a:\n",
    "        return(a)\n",
    "       \n",
    "    elif a<b and c<b:\n",
    "        return(b)\n",
    "    else:\n",
    "        return(c)\n",
    "max= maximum(20,35,19)\n",
    "print(max)"
   ]
  },
  {
   "cell_type": "code",
   "execution_count": 12,
   "id": "5bdb5ece",
   "metadata": {},
   "outputs": [
    {
     "name": "stdout",
     "output_type": "stream",
     "text": [
      "50 , 30\n"
     ]
    }
   ],
   "source": [
    "#question2\n",
    "sum = lambda a,b : a+b\n",
    "sub= lambda a,b : a-b\n",
    "print(sum(40,10),',' ,sub(40,10))\n"
   ]
  },
  {
   "cell_type": "code",
   "execution_count": 29,
   "id": "4398d55a",
   "metadata": {},
   "outputs": [
    {
     "name": "stdout",
     "output_type": "stream",
     "text": [
      "donner le nombre d'elements de la liste4\n",
      "donner nombre2\n",
      "donner nombre3\n",
      "donner nombre4\n",
      "donner nombre5\n",
      "the sum of the even numbers is 6\n",
      "the sum of the even numbers is 15\n"
     ]
    }
   ],
   "source": [
    "#question3\n",
    "l=[]\n",
    "n=int(input(\"donner le nombre d'elements de la liste\"))\n",
    "for i in range (0,n):\n",
    "    a=int(input(\"donner nombre\"))\n",
    "    l.append(a)\n",
    "def somme(l):\n",
    "    s=0\n",
    "    for i in l:\n",
    "        s=s+i\n",
    "    return s\n",
    "def produit(l):\n",
    "    p=1\n",
    "    for i in l:\n",
    "        p=p*i\n",
    "    return p\n",
    "l1=[]\n",
    "l2=[]\n",
    "for i in range (0,len(l),2):\n",
    "    l1.append(l[i])\n",
    "    x=somme(l1)\n",
    "print(\"the sum of the even numbers is\",x)\n",
    "for i in range(1,len(l),2):\n",
    "    l2.append(l[i])\n",
    "    y=produit(l2)\n",
    "print(\"the sum of the even numbers is\",y)"
   ]
  },
  {
   "cell_type": "code",
   "execution_count": 31,
   "id": "ba4b362b",
   "metadata": {},
   "outputs": [
    {
     "name": "stdout",
     "output_type": "stream",
     "text": [
      "give a hyphen-separated sequence of wordsgreen-red-yellow-black-white\n",
      "black-green-red-white-yellow\n"
     ]
    }
   ],
   "source": [
    "#question4\n",
    "x=input(\"give a hyphen-separated sequence of words\")\n",
    "I=x.split('-')\n",
    "I.sort()\n",
    "print('-'.join(I))\n",
    "\n"
   ]
  },
  {
   "cell_type": "code",
   "execution_count": null,
   "id": "f3ae55a6",
   "metadata": {},
   "outputs": [],
   "source": []
  }
 ],
 "metadata": {
  "kernelspec": {
   "display_name": "Python 3",
   "language": "python",
   "name": "python3"
  },
  "language_info": {
   "codemirror_mode": {
    "name": "ipython",
    "version": 3
   },
   "file_extension": ".py",
   "mimetype": "text/x-python",
   "name": "python",
   "nbconvert_exporter": "python",
   "pygments_lexer": "ipython3",
   "version": "3.8.8"
  }
 },
 "nbformat": 4,
 "nbformat_minor": 5
}
